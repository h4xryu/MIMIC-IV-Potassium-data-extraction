{
"cells": [
 {
  "cell_type": "markdown",
  "metadata": {},
  "source": [
   "# MIMIC-IV ECG and Potassium Level Analysis\n",
   "\n",
   "This notebook implements matching between ECG waveforms and potassium measurements in MIMIC-IV."
  ]
 },
 {
  "cell_type": "markdown", 
  "metadata": {},
  "source": [
   "## 1. Import Required Libraries"
  ]
 },
 {
  "cell_type": "code",
  "execution_count": null,
  "metadata": {},
  "outputs": [],
  "source": [
   "import pandas as pd\n",
   "import numpy as np\n",
   "import wfdb\n",
   "from pathlib import Path\n",
   "import re\n",
   "from datetime import datetime\n",
   "from tqdm import tqdm"
  ]
 },
 {
  "cell_type": "markdown",
  "metadata": {},
  "source": [
   "## 2. Define MIMIC4CSVMatcher Class"
  ]
 },
 {
  "cell_type": "code",
  "execution_count": null,
  "metadata": {},
  "outputs": [],
  "source": [
   "class MIMIC4CSVMatcher:\n",
   "    def __init__(self, mimic_path, ecg_path):\n",
   "        \"\"\"\n",
   "        Initialize matcher for MIMIC-IV using CSV files\n",
   "        Args:\n",
   "            mimic_path (str): Path to MIMIC-IV base directory containing hosp, icu modules\n",
   "            ecg_path (str): Path to MIMIC-IV-ECG directory\n",
   "        \"\"\"\n",
   "        self.mimic_path = Path(mimic_path)\n",
   "        self.ecg_path = Path(ecg_path)\n",
   "\n",
   "    def load_clinical_data(self):\n",
   "        \"\"\"Load required tables from CSV files\"\"\"\n",
   "        print(\"Loading clinical data...\")\n",
   "\n",
   "        # Load required tables from different modules\n",
   "        labevents = pd.read_csv(self.mimic_path / 'hosp' / 'labevents_potassium.csv')\n",
   "        admissions = pd.read_csv(self.mimic_path / 'core' / 'admissions.csv')\n",
   "        transfers = pd.read_csv(self.mimic_path / 'core' / 'transfers.csv')\n",
   "        ecg_records = pd.read_csv(self.ecg_path / 'record_list.csv')\n",
   "\n",
   "        # Convert time columns to datetime\n",
   "        time_columns = {\n",
   "            'labevents': ['charttime'],\n",
   "            'admissions': ['admittime', 'dischtime', 'deathtime'],\n",
   "            'transfers': ['intime', 'outtime']\n",
   "        }\n",
   "\n",
   "        for df_name, cols in time_columns.items():\n",
   "            df = locals()[df_name]\n",
   "            for col in cols:\n",
   "                if col in df.columns:\n",
   "                    df[col] = pd.to_datetime(df[col])\n",
   "\n",
   "        return labevents, admissions, transfers, ecg_records"
  ]
 },
 {
  "cell_type": "markdown",
  "metadata": {},
  "source": [
   "## 3. Implement Data Processing Methods"
  ]
 },
 {
  "cell_type": "code", 
  "execution_count": null,
  "metadata": {},
  "outputs": [],
  "source": [
   "    def get_potassium_data(self, labevents, admissions):\n",
   "        \"\"\"Get potassium measurements with hospital stay information and K+ level labels\"\"\"\n",
   "        print(\"Processing potassium measurements...\")\n",
   "\n",
   "        # MIMIC-IV Lab Item IDs for potassium \n",
   "        potassium_itemids = [50971]  # POTASSIUM serum\n",
   "\n",
   "        # Filter for potassium measurements\n",
   "        potassium_labs = labevents[\n",
   "            (labevents['itemid'].isin(potassium_itemids)) &\n",
   "            (labevents['valuenum'].notna()) &\n",
   "            (labevents['valuenum'] > 0) &\n",
   "            (labevents['valuenum'] <= 30)\n",
   "        ]\n",
   "\n",
   "        # Merge with admissions\n",
   "        merged_data = pd.merge(\n",
   "            potassium_labs,\n",
   "            admissions[['subject_id', 'hadm_id', 'admittime', 'dischtime', 'deathtime']],\n",
   "            on=['subject_id', 'hadm_id'],\n",
   "            how='inner'\n",
   "        )\n",
   "\n",
   "        # Add labels\n",
   "        def label_k_level(k_value):\n",
   "            if k_value < 3.5:\n",
   "                return 'hypokalemia'\n",
   "            elif k_value >= 5.5:\n",
   "                return 'hyperkalemia'\n",
   "            else:\n",
   "                return 'normal'\n",
   "\n",
   "        merged_data['k_level_label'] = merged_data['valuenum'].apply(label_k_level)\n",
   "        k_level_map = {'hypokalemia': 0, 'normal': 1, 'hyperkalemia': 2}\n",
   "        merged_data['k_level_numeric'] = merged_data['k_level_label'].map(k_level_map)\n",
   "\n",
   "        return merged_data"
  ]
 },
 {
  "cell_type": "markdown",
  "metadata": {},
  "source": [
   "## 4. Implement Waveform Loading"
  ]
 },
 {
  "cell_type": "code",
  "execution_count": null,
  "metadata": {},
  "outputs": [],
  "source": [
   "    def load_waveform_data(self, record_path):\n",
   "        \"\"\"Load ECG waveform data\"\"\"\n",
   "        try:\n",
   "            record = wfdb.rdrecord(str(self.ecg_path / record_path))\n",
   "            leads = ['I', 'II', 'III', 'aVR', 'aVL', 'aVF', 'V1', 'V2', 'V3', 'V4', 'V5', 'V6']\n",
   "            leads_upper = [lead.upper() for lead in record.sig_name]\n",
   "            lead_indices = [leads_upper.index(lead.upper()) for lead in leads]\n",
   "            signals = record.p_signal[:, lead_indices]\n",
   "            return signals, record.fs, leads\n",
   "        except Exception as e:\n",
   "            print(f\"Error loading record {record_path}: {str(e)}\")\n",
   "            return None, None, None"
  ]
 },
 {
  "cell_type": "markdown",
  "metadata": {},
  "source": [
   "## 5. Implement Record Matching"
  ]
 },
 {
  "cell_type": "code",
  "execution_count": null, 
  "metadata": {},
  "outputs": [],
  "source": [
   "    def find_matching_records(self, time_threshold_hours=3):\n",
   "        \"\"\"Find matching ECG records for potassium measurements\"\"\"\n",
   "        # Load clinical data\n",
   "        labevents, admissions, transfers, ecg_records = self.load_clinical_data()\n",
   "        potassium_data = self.get_potassium_data(labevents, admissions)\n",
   "\n",
   "        matches = []\n",
   "        print(\"Finding matches...\")\n",
   "\n",
   "        # Process ECG records\n",
   "        ecg_records['ecg_time'] = pd.to_datetime(ecg_records['ecg_time'])\n",
   "        ecg_by_subject = dict(tuple(ecg_records.groupby('subject_id')))\n",
   "\n",
   "        # Find matches\n",
   "        for _, row in tqdm(potassium_data.iterrows(), total=len(potassium_data)):\n",
   "            subject_id = row['subject_id']\n",
   "            if subject_id not in ecg_by_subject:\n",
   "                continue\n",
   "\n",
   "            subject_ecgs = ecg_by_subject[subject_id]\n",
   "            time_diffs = abs(subject_ecgs['ecg_time'] - row['charttime'])\n",
   "            closest_idx = time_diffs.idxmin()\n",
   "\n",
   "            if time_diffs[closest_idx].total_seconds() / 3600 <= time_threshold_hours:\n",
   "                ecg_record = subject_ecgs.loc[closest_idx]\n",
   "                signals, fs, leads = self.load_waveform_data(ecg_record['path'])\n",
   "\n",
   "                if signals is not None:\n",
   "                    matches.append({\n",
   "                        'subject_id': subject_id,\n",
   "                        'record_path': ecg_record['path'],\n",
   "                        'Potassium (serum)': row['valuenum'],\n",
   "                        'k_level_label': row['k_level_label'],\n",
   "                        'k_level_numeric': row['k_level_numeric'],\n",
   "                        'mort_hosp': row['mort_hosp'], \n",
   "                        'time_diff_hours': time_diffs[closest_idx].total_seconds() / 3600,\n",
   "                        'signals': signals,\n",
   "                        'fs': fs,\n",
   "                        'leads': leads,\n",
   "                        'lab_time': row['charttime'],\n",
   "                        'ecg_time': ecg_record['ecg_time']\n",
   "                    })\n",
   "\n",
   "        return matches"
  ]
 },
 {
  "cell_type": "markdown",
  "metadata": {},
  "source": [
   "## 6. Run Analysis"
  ]
 },
 {
  "cell_type": "code",
  "execution_count": null,
  "metadata": {},
  "outputs": [],
  "source": [
   "# Set paths\n",
   "mimic_path = \"/path/to/mimic\"\n",
   "ecg_path = \"/path/to/ecg\"\n",
   "\n",
   "# Initialize matcher\n",
   "matcher = MIMIC4CSVMatcher(mimic_path, ecg_path)\n",
   "\n",
   "# Find matches\n",
   "matches = matcher.find_matching_records(time_threshold_hours=1)"
  ]
 },
 {
  "cell_type": "markdown",
  "metadata": {},
  "source": [
   "## 7. Analyze Results"
  ]
 },
 {
  "cell_type": "code",
  "execution_count": null,
  "metadata": {},
  "outputs": [],
  "source": [
   "# Print summary statistics\n",
   "print(f\"\\nFound {len(matches)} matching records\")\n",
   "\n",
   "if matches:\n",
   "    # Analyze time differences\n",
   "    time_diffs = [m['time_diff_hours'] for m in matches]\n",
   "    print(f\"Average time difference: {np.mean(time_diffs):.2f} hours\")\n",
   "\n",
   "    # Analyze potassium distributions\n",
   "    k_labels = [m['k_level_label'] for m in matches]\n",
   "    label_counts = {\n",
   "        'hypokalemia': k_labels.count('hypokalemia'),\n",
   "        'normal': k_labels.count('normal'),\n",
   "        'hyperkalemia': k_labels.count('hyperkalemia')\n",
   "    }\n",
   "\n",
   "    print(\"\\nPotassium Level Distribution:\")\n",
   "    for label, count in label_counts.items():\n",
   "        print(f\"{label}: {count} cases ({count / len(k_labels) * 100:.1f}%)\")\n",
   "\n",
   "    # Save results\n",
   "    np.save('mimic4_matched_data_with_labels.npy', matches)"
  ]
 }
],
"metadata": {
 "kernelspec": {
  "display_name": "Python 3",
  "language": "python",
  "name": "python3"
 },
 "language_info": {
  "codemirror_mode": {
   "name": "ipython",
   "version": 3
  },
  "file_extension": ".py",
  "mimetype": "text/x-python",
  "name": "python",
  "nbconvert_exporter": "python",
  "pygments_lexer": "ipython3",
  "version": "3.8.0"
 }
},
"nbformat": 4,
"nbformat_minor": 4
}
